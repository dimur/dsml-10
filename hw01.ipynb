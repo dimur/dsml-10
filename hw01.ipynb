{
 "cells": [
  {
   "cell_type": "code",
   "execution_count": 63,
   "id": "847f21cc-b24f-490e-8478-ed1f7f87629d",
   "metadata": {},
   "outputs": [],
   "source": [
    "import pandas as pd\n",
    "from sklearn.model_selection import train_test_split\n",
    "from sklearn.linear_model import LogisticRegression\n",
    "from sklearn.metrics import accuracy_score\n",
    "from sklearn.svm import LinearSVC\n",
    "from sklearn.pipeline import make_pipeline\n",
    "from sklearn.preprocessing import StandardScaler\n",
    "import matplotlib.pyplot as plt\n",
    "import numpy as np"
   ]
  },
  {
   "cell_type": "markdown",
   "id": "22e7f98d-8f15-4794-947e-8cac18f2efa7",
   "metadata": {},
   "source": [
    "# Загрузка данных и первичный анализ"
   ]
  },
  {
   "cell_type": "code",
   "execution_count": 18,
   "id": "29ab045e-ed32-46e8-92aa-2181760672ee",
   "metadata": {},
   "outputs": [
    {
     "name": "stdout",
     "output_type": "stream",
     "text": [
      "<class 'pandas.core.frame.DataFrame'>\n",
      "RangeIndex: 48842 entries, 0 to 48841\n",
      "Data columns (total 15 columns):\n",
      " #   Column           Non-Null Count  Dtype \n",
      "---  ------           --------------  ----- \n",
      " 0   age              48842 non-null  int64 \n",
      " 1   workclass        48842 non-null  object\n",
      " 2   fnlwgt           48842 non-null  int64 \n",
      " 3   education        48842 non-null  object\n",
      " 4   educational-num  48842 non-null  int64 \n",
      " 5   marital-status   48842 non-null  object\n",
      " 6   occupation       48842 non-null  object\n",
      " 7   relationship     48842 non-null  object\n",
      " 8   race             48842 non-null  object\n",
      " 9   gender           48842 non-null  object\n",
      " 10  capital-gain     48842 non-null  int64 \n",
      " 11  capital-loss     48842 non-null  int64 \n",
      " 12  hours-per-week   48842 non-null  int64 \n",
      " 13  native-country   48842 non-null  object\n",
      " 14  income           48842 non-null  object\n",
      "dtypes: int64(6), object(9)\n",
      "memory usage: 5.6+ MB\n"
     ]
    }
   ],
   "source": [
    "data = pd.read_csv(\"./adult.csv\")\n",
    "data.info()"
   ]
  },
  {
   "cell_type": "code",
   "execution_count": 19,
   "id": "3e9dab81-0737-4479-83c4-f918c3a7f85b",
   "metadata": {},
   "outputs": [
    {
     "data": {
      "text/html": [
       "<div>\n",
       "<style scoped>\n",
       "    .dataframe tbody tr th:only-of-type {\n",
       "        vertical-align: middle;\n",
       "    }\n",
       "\n",
       "    .dataframe tbody tr th {\n",
       "        vertical-align: top;\n",
       "    }\n",
       "\n",
       "    .dataframe thead th {\n",
       "        text-align: right;\n",
       "    }\n",
       "</style>\n",
       "<table border=\"1\" class=\"dataframe\">\n",
       "  <thead>\n",
       "    <tr style=\"text-align: right;\">\n",
       "      <th></th>\n",
       "      <th>age</th>\n",
       "      <th>workclass</th>\n",
       "      <th>fnlwgt</th>\n",
       "      <th>education</th>\n",
       "      <th>educational-num</th>\n",
       "      <th>marital-status</th>\n",
       "      <th>occupation</th>\n",
       "      <th>relationship</th>\n",
       "      <th>race</th>\n",
       "      <th>gender</th>\n",
       "      <th>capital-gain</th>\n",
       "      <th>capital-loss</th>\n",
       "      <th>hours-per-week</th>\n",
       "      <th>native-country</th>\n",
       "      <th>income</th>\n",
       "    </tr>\n",
       "  </thead>\n",
       "  <tbody>\n",
       "    <tr>\n",
       "      <th>28146</th>\n",
       "      <td>60</td>\n",
       "      <td>Private</td>\n",
       "      <td>82388</td>\n",
       "      <td>Some-college</td>\n",
       "      <td>10</td>\n",
       "      <td>Married-civ-spouse</td>\n",
       "      <td>Protective-serv</td>\n",
       "      <td>Husband</td>\n",
       "      <td>White</td>\n",
       "      <td>Male</td>\n",
       "      <td>0</td>\n",
       "      <td>0</td>\n",
       "      <td>38</td>\n",
       "      <td>United-States</td>\n",
       "      <td>&lt;=50K</td>\n",
       "    </tr>\n",
       "    <tr>\n",
       "      <th>8303</th>\n",
       "      <td>30</td>\n",
       "      <td>Private</td>\n",
       "      <td>137991</td>\n",
       "      <td>Assoc-voc</td>\n",
       "      <td>11</td>\n",
       "      <td>Never-married</td>\n",
       "      <td>Other-service</td>\n",
       "      <td>Not-in-family</td>\n",
       "      <td>White</td>\n",
       "      <td>Female</td>\n",
       "      <td>0</td>\n",
       "      <td>0</td>\n",
       "      <td>41</td>\n",
       "      <td>United-States</td>\n",
       "      <td>&lt;=50K</td>\n",
       "    </tr>\n",
       "    <tr>\n",
       "      <th>40270</th>\n",
       "      <td>41</td>\n",
       "      <td>Local-gov</td>\n",
       "      <td>195897</td>\n",
       "      <td>Masters</td>\n",
       "      <td>14</td>\n",
       "      <td>Married-civ-spouse</td>\n",
       "      <td>Prof-specialty</td>\n",
       "      <td>Husband</td>\n",
       "      <td>White</td>\n",
       "      <td>Male</td>\n",
       "      <td>0</td>\n",
       "      <td>0</td>\n",
       "      <td>60</td>\n",
       "      <td>United-States</td>\n",
       "      <td>&lt;=50K</td>\n",
       "    </tr>\n",
       "    <tr>\n",
       "      <th>5209</th>\n",
       "      <td>23</td>\n",
       "      <td>Private</td>\n",
       "      <td>115458</td>\n",
       "      <td>Some-college</td>\n",
       "      <td>10</td>\n",
       "      <td>Married-civ-spouse</td>\n",
       "      <td>Sales</td>\n",
       "      <td>Husband</td>\n",
       "      <td>White</td>\n",
       "      <td>Male</td>\n",
       "      <td>0</td>\n",
       "      <td>0</td>\n",
       "      <td>40</td>\n",
       "      <td>United-States</td>\n",
       "      <td>&lt;=50K</td>\n",
       "    </tr>\n",
       "    <tr>\n",
       "      <th>5347</th>\n",
       "      <td>50</td>\n",
       "      <td>Private</td>\n",
       "      <td>139793</td>\n",
       "      <td>Some-college</td>\n",
       "      <td>10</td>\n",
       "      <td>Divorced</td>\n",
       "      <td>Adm-clerical</td>\n",
       "      <td>Unmarried</td>\n",
       "      <td>White</td>\n",
       "      <td>Female</td>\n",
       "      <td>3418</td>\n",
       "      <td>0</td>\n",
       "      <td>38</td>\n",
       "      <td>United-States</td>\n",
       "      <td>&lt;=50K</td>\n",
       "    </tr>\n",
       "    <tr>\n",
       "      <th>42022</th>\n",
       "      <td>31</td>\n",
       "      <td>Private</td>\n",
       "      <td>347166</td>\n",
       "      <td>Some-college</td>\n",
       "      <td>10</td>\n",
       "      <td>Divorced</td>\n",
       "      <td>Craft-repair</td>\n",
       "      <td>Own-child</td>\n",
       "      <td>White</td>\n",
       "      <td>Male</td>\n",
       "      <td>4650</td>\n",
       "      <td>0</td>\n",
       "      <td>40</td>\n",
       "      <td>United-States</td>\n",
       "      <td>&lt;=50K</td>\n",
       "    </tr>\n",
       "    <tr>\n",
       "      <th>46783</th>\n",
       "      <td>60</td>\n",
       "      <td>Private</td>\n",
       "      <td>198727</td>\n",
       "      <td>HS-grad</td>\n",
       "      <td>9</td>\n",
       "      <td>Married-civ-spouse</td>\n",
       "      <td>Prof-specialty</td>\n",
       "      <td>Husband</td>\n",
       "      <td>White</td>\n",
       "      <td>Male</td>\n",
       "      <td>0</td>\n",
       "      <td>0</td>\n",
       "      <td>30</td>\n",
       "      <td>United-States</td>\n",
       "      <td>&lt;=50K</td>\n",
       "    </tr>\n",
       "    <tr>\n",
       "      <th>801</th>\n",
       "      <td>32</td>\n",
       "      <td>Private</td>\n",
       "      <td>198183</td>\n",
       "      <td>Bachelors</td>\n",
       "      <td>13</td>\n",
       "      <td>Never-married</td>\n",
       "      <td>Exec-managerial</td>\n",
       "      <td>Not-in-family</td>\n",
       "      <td>White</td>\n",
       "      <td>Female</td>\n",
       "      <td>0</td>\n",
       "      <td>0</td>\n",
       "      <td>45</td>\n",
       "      <td>United-States</td>\n",
       "      <td>&lt;=50K</td>\n",
       "    </tr>\n",
       "    <tr>\n",
       "      <th>1062</th>\n",
       "      <td>18</td>\n",
       "      <td>Private</td>\n",
       "      <td>185522</td>\n",
       "      <td>HS-grad</td>\n",
       "      <td>9</td>\n",
       "      <td>Never-married</td>\n",
       "      <td>Sales</td>\n",
       "      <td>Own-child</td>\n",
       "      <td>White</td>\n",
       "      <td>Female</td>\n",
       "      <td>0</td>\n",
       "      <td>0</td>\n",
       "      <td>33</td>\n",
       "      <td>United-States</td>\n",
       "      <td>&lt;=50K</td>\n",
       "    </tr>\n",
       "    <tr>\n",
       "      <th>11132</th>\n",
       "      <td>22</td>\n",
       "      <td>?</td>\n",
       "      <td>379883</td>\n",
       "      <td>Some-college</td>\n",
       "      <td>10</td>\n",
       "      <td>Never-married</td>\n",
       "      <td>?</td>\n",
       "      <td>Own-child</td>\n",
       "      <td>White</td>\n",
       "      <td>Female</td>\n",
       "      <td>0</td>\n",
       "      <td>0</td>\n",
       "      <td>40</td>\n",
       "      <td>United-States</td>\n",
       "      <td>&lt;=50K</td>\n",
       "    </tr>\n",
       "    <tr>\n",
       "      <th>31702</th>\n",
       "      <td>33</td>\n",
       "      <td>Private</td>\n",
       "      <td>186824</td>\n",
       "      <td>Assoc-voc</td>\n",
       "      <td>11</td>\n",
       "      <td>Married-civ-spouse</td>\n",
       "      <td>Sales</td>\n",
       "      <td>Husband</td>\n",
       "      <td>White</td>\n",
       "      <td>Male</td>\n",
       "      <td>0</td>\n",
       "      <td>0</td>\n",
       "      <td>40</td>\n",
       "      <td>United-States</td>\n",
       "      <td>&lt;=50K</td>\n",
       "    </tr>\n",
       "    <tr>\n",
       "      <th>636</th>\n",
       "      <td>35</td>\n",
       "      <td>Private</td>\n",
       "      <td>337239</td>\n",
       "      <td>HS-grad</td>\n",
       "      <td>9</td>\n",
       "      <td>Married-civ-spouse</td>\n",
       "      <td>Machine-op-inspct</td>\n",
       "      <td>Husband</td>\n",
       "      <td>White</td>\n",
       "      <td>Male</td>\n",
       "      <td>0</td>\n",
       "      <td>0</td>\n",
       "      <td>40</td>\n",
       "      <td>Mexico</td>\n",
       "      <td>&lt;=50K</td>\n",
       "    </tr>\n",
       "    <tr>\n",
       "      <th>48246</th>\n",
       "      <td>37</td>\n",
       "      <td>Private</td>\n",
       "      <td>232614</td>\n",
       "      <td>HS-grad</td>\n",
       "      <td>9</td>\n",
       "      <td>Divorced</td>\n",
       "      <td>Other-service</td>\n",
       "      <td>Unmarried</td>\n",
       "      <td>Black</td>\n",
       "      <td>Female</td>\n",
       "      <td>0</td>\n",
       "      <td>0</td>\n",
       "      <td>30</td>\n",
       "      <td>United-States</td>\n",
       "      <td>&lt;=50K</td>\n",
       "    </tr>\n",
       "    <tr>\n",
       "      <th>1904</th>\n",
       "      <td>57</td>\n",
       "      <td>Self-emp-not-inc</td>\n",
       "      <td>113010</td>\n",
       "      <td>Bachelors</td>\n",
       "      <td>13</td>\n",
       "      <td>Married-civ-spouse</td>\n",
       "      <td>Sales</td>\n",
       "      <td>Husband</td>\n",
       "      <td>White</td>\n",
       "      <td>Male</td>\n",
       "      <td>0</td>\n",
       "      <td>0</td>\n",
       "      <td>50</td>\n",
       "      <td>United-States</td>\n",
       "      <td>&gt;50K</td>\n",
       "    </tr>\n",
       "    <tr>\n",
       "      <th>3818</th>\n",
       "      <td>37</td>\n",
       "      <td>Private</td>\n",
       "      <td>92028</td>\n",
       "      <td>Bachelors</td>\n",
       "      <td>13</td>\n",
       "      <td>Never-married</td>\n",
       "      <td>Exec-managerial</td>\n",
       "      <td>Not-in-family</td>\n",
       "      <td>White</td>\n",
       "      <td>Male</td>\n",
       "      <td>0</td>\n",
       "      <td>0</td>\n",
       "      <td>45</td>\n",
       "      <td>United-States</td>\n",
       "      <td>&lt;=50K</td>\n",
       "    </tr>\n",
       "    <tr>\n",
       "      <th>21984</th>\n",
       "      <td>39</td>\n",
       "      <td>Self-emp-not-inc</td>\n",
       "      <td>109766</td>\n",
       "      <td>Prof-school</td>\n",
       "      <td>15</td>\n",
       "      <td>Married-civ-spouse</td>\n",
       "      <td>Prof-specialty</td>\n",
       "      <td>Husband</td>\n",
       "      <td>White</td>\n",
       "      <td>Male</td>\n",
       "      <td>15024</td>\n",
       "      <td>0</td>\n",
       "      <td>50</td>\n",
       "      <td>United-States</td>\n",
       "      <td>&gt;50K</td>\n",
       "    </tr>\n",
       "    <tr>\n",
       "      <th>28134</th>\n",
       "      <td>52</td>\n",
       "      <td>Private</td>\n",
       "      <td>321959</td>\n",
       "      <td>Some-college</td>\n",
       "      <td>10</td>\n",
       "      <td>Married-civ-spouse</td>\n",
       "      <td>Tech-support</td>\n",
       "      <td>Husband</td>\n",
       "      <td>Black</td>\n",
       "      <td>Male</td>\n",
       "      <td>0</td>\n",
       "      <td>0</td>\n",
       "      <td>40</td>\n",
       "      <td>United-States</td>\n",
       "      <td>&gt;50K</td>\n",
       "    </tr>\n",
       "    <tr>\n",
       "      <th>37032</th>\n",
       "      <td>36</td>\n",
       "      <td>Private</td>\n",
       "      <td>177907</td>\n",
       "      <td>Some-college</td>\n",
       "      <td>10</td>\n",
       "      <td>Married-civ-spouse</td>\n",
       "      <td>Machine-op-inspct</td>\n",
       "      <td>Husband</td>\n",
       "      <td>White</td>\n",
       "      <td>Male</td>\n",
       "      <td>0</td>\n",
       "      <td>0</td>\n",
       "      <td>65</td>\n",
       "      <td>United-States</td>\n",
       "      <td>&lt;=50K</td>\n",
       "    </tr>\n",
       "    <tr>\n",
       "      <th>36328</th>\n",
       "      <td>48</td>\n",
       "      <td>Local-gov</td>\n",
       "      <td>317360</td>\n",
       "      <td>Masters</td>\n",
       "      <td>14</td>\n",
       "      <td>Married-civ-spouse</td>\n",
       "      <td>Prof-specialty</td>\n",
       "      <td>Wife</td>\n",
       "      <td>White</td>\n",
       "      <td>Female</td>\n",
       "      <td>0</td>\n",
       "      <td>0</td>\n",
       "      <td>40</td>\n",
       "      <td>United-States</td>\n",
       "      <td>&gt;50K</td>\n",
       "    </tr>\n",
       "    <tr>\n",
       "      <th>23161</th>\n",
       "      <td>49</td>\n",
       "      <td>Private</td>\n",
       "      <td>198759</td>\n",
       "      <td>Assoc-acdm</td>\n",
       "      <td>12</td>\n",
       "      <td>Married-civ-spouse</td>\n",
       "      <td>Sales</td>\n",
       "      <td>Husband</td>\n",
       "      <td>White</td>\n",
       "      <td>Male</td>\n",
       "      <td>15024</td>\n",
       "      <td>0</td>\n",
       "      <td>60</td>\n",
       "      <td>United-States</td>\n",
       "      <td>&gt;50K</td>\n",
       "    </tr>\n",
       "  </tbody>\n",
       "</table>\n",
       "</div>"
      ],
      "text/plain": [
       "       age         workclass  fnlwgt     education  educational-num  \\\n",
       "28146   60           Private   82388  Some-college               10   \n",
       "8303    30           Private  137991     Assoc-voc               11   \n",
       "40270   41         Local-gov  195897       Masters               14   \n",
       "5209    23           Private  115458  Some-college               10   \n",
       "5347    50           Private  139793  Some-college               10   \n",
       "42022   31           Private  347166  Some-college               10   \n",
       "46783   60           Private  198727       HS-grad                9   \n",
       "801     32           Private  198183     Bachelors               13   \n",
       "1062    18           Private  185522       HS-grad                9   \n",
       "11132   22                 ?  379883  Some-college               10   \n",
       "31702   33           Private  186824     Assoc-voc               11   \n",
       "636     35           Private  337239       HS-grad                9   \n",
       "48246   37           Private  232614       HS-grad                9   \n",
       "1904    57  Self-emp-not-inc  113010     Bachelors               13   \n",
       "3818    37           Private   92028     Bachelors               13   \n",
       "21984   39  Self-emp-not-inc  109766   Prof-school               15   \n",
       "28134   52           Private  321959  Some-college               10   \n",
       "37032   36           Private  177907  Some-college               10   \n",
       "36328   48         Local-gov  317360       Masters               14   \n",
       "23161   49           Private  198759    Assoc-acdm               12   \n",
       "\n",
       "           marital-status         occupation   relationship   race  gender  \\\n",
       "28146  Married-civ-spouse    Protective-serv        Husband  White    Male   \n",
       "8303        Never-married      Other-service  Not-in-family  White  Female   \n",
       "40270  Married-civ-spouse     Prof-specialty        Husband  White    Male   \n",
       "5209   Married-civ-spouse              Sales        Husband  White    Male   \n",
       "5347             Divorced       Adm-clerical      Unmarried  White  Female   \n",
       "42022            Divorced       Craft-repair      Own-child  White    Male   \n",
       "46783  Married-civ-spouse     Prof-specialty        Husband  White    Male   \n",
       "801         Never-married    Exec-managerial  Not-in-family  White  Female   \n",
       "1062        Never-married              Sales      Own-child  White  Female   \n",
       "11132       Never-married                  ?      Own-child  White  Female   \n",
       "31702  Married-civ-spouse              Sales        Husband  White    Male   \n",
       "636    Married-civ-spouse  Machine-op-inspct        Husband  White    Male   \n",
       "48246            Divorced      Other-service      Unmarried  Black  Female   \n",
       "1904   Married-civ-spouse              Sales        Husband  White    Male   \n",
       "3818        Never-married    Exec-managerial  Not-in-family  White    Male   \n",
       "21984  Married-civ-spouse     Prof-specialty        Husband  White    Male   \n",
       "28134  Married-civ-spouse       Tech-support        Husband  Black    Male   \n",
       "37032  Married-civ-spouse  Machine-op-inspct        Husband  White    Male   \n",
       "36328  Married-civ-spouse     Prof-specialty           Wife  White  Female   \n",
       "23161  Married-civ-spouse              Sales        Husband  White    Male   \n",
       "\n",
       "       capital-gain  capital-loss  hours-per-week native-country income  \n",
       "28146             0             0              38  United-States  <=50K  \n",
       "8303              0             0              41  United-States  <=50K  \n",
       "40270             0             0              60  United-States  <=50K  \n",
       "5209              0             0              40  United-States  <=50K  \n",
       "5347           3418             0              38  United-States  <=50K  \n",
       "42022          4650             0              40  United-States  <=50K  \n",
       "46783             0             0              30  United-States  <=50K  \n",
       "801               0             0              45  United-States  <=50K  \n",
       "1062              0             0              33  United-States  <=50K  \n",
       "11132             0             0              40  United-States  <=50K  \n",
       "31702             0             0              40  United-States  <=50K  \n",
       "636               0             0              40         Mexico  <=50K  \n",
       "48246             0             0              30  United-States  <=50K  \n",
       "1904              0             0              50  United-States   >50K  \n",
       "3818              0             0              45  United-States  <=50K  \n",
       "21984         15024             0              50  United-States   >50K  \n",
       "28134             0             0              40  United-States   >50K  \n",
       "37032             0             0              65  United-States  <=50K  \n",
       "36328             0             0              40  United-States   >50K  \n",
       "23161         15024             0              60  United-States   >50K  "
      ]
     },
     "execution_count": 19,
     "metadata": {},
     "output_type": "execute_result"
    }
   ],
   "source": [
    "data.sample(20)"
   ]
  },
  {
   "cell_type": "code",
   "execution_count": 6,
   "id": "8106ab3a-bbe4-4f93-a9bd-6595451c1b66",
   "metadata": {},
   "outputs": [
    {
     "data": {
      "text/plain": [
       "array(['Private', 'Local-gov', '?', 'Self-emp-not-inc', 'Federal-gov',\n",
       "       'State-gov', 'Self-emp-inc', 'Without-pay', 'Never-worked'],\n",
       "      dtype=object)"
      ]
     },
     "execution_count": 6,
     "metadata": {},
     "output_type": "execute_result"
    }
   ],
   "source": [
    "data[\"workclass\"].unique()"
   ]
  },
  {
   "cell_type": "code",
   "execution_count": 7,
   "id": "46daf460-2ece-4238-a3d7-f49d6b05c1e2",
   "metadata": {},
   "outputs": [
    {
     "data": {
      "text/html": [
       "<div>\n",
       "<style scoped>\n",
       "    .dataframe tbody tr th:only-of-type {\n",
       "        vertical-align: middle;\n",
       "    }\n",
       "\n",
       "    .dataframe tbody tr th {\n",
       "        vertical-align: top;\n",
       "    }\n",
       "\n",
       "    .dataframe thead th {\n",
       "        text-align: right;\n",
       "    }\n",
       "</style>\n",
       "<table border=\"1\" class=\"dataframe\">\n",
       "  <thead>\n",
       "    <tr style=\"text-align: right;\">\n",
       "      <th></th>\n",
       "      <th>age</th>\n",
       "      <th>fnlwgt</th>\n",
       "      <th>educational-num</th>\n",
       "      <th>capital-gain</th>\n",
       "      <th>capital-loss</th>\n",
       "      <th>hours-per-week</th>\n",
       "    </tr>\n",
       "  </thead>\n",
       "  <tbody>\n",
       "    <tr>\n",
       "      <th>count</th>\n",
       "      <td>48842.000000</td>\n",
       "      <td>4.884200e+04</td>\n",
       "      <td>48842.000000</td>\n",
       "      <td>48842.000000</td>\n",
       "      <td>48842.000000</td>\n",
       "      <td>48842.000000</td>\n",
       "    </tr>\n",
       "    <tr>\n",
       "      <th>mean</th>\n",
       "      <td>38.643585</td>\n",
       "      <td>1.896641e+05</td>\n",
       "      <td>10.078089</td>\n",
       "      <td>1079.067626</td>\n",
       "      <td>87.502314</td>\n",
       "      <td>40.422382</td>\n",
       "    </tr>\n",
       "    <tr>\n",
       "      <th>std</th>\n",
       "      <td>13.710510</td>\n",
       "      <td>1.056040e+05</td>\n",
       "      <td>2.570973</td>\n",
       "      <td>7452.019058</td>\n",
       "      <td>403.004552</td>\n",
       "      <td>12.391444</td>\n",
       "    </tr>\n",
       "    <tr>\n",
       "      <th>min</th>\n",
       "      <td>17.000000</td>\n",
       "      <td>1.228500e+04</td>\n",
       "      <td>1.000000</td>\n",
       "      <td>0.000000</td>\n",
       "      <td>0.000000</td>\n",
       "      <td>1.000000</td>\n",
       "    </tr>\n",
       "    <tr>\n",
       "      <th>25%</th>\n",
       "      <td>28.000000</td>\n",
       "      <td>1.175505e+05</td>\n",
       "      <td>9.000000</td>\n",
       "      <td>0.000000</td>\n",
       "      <td>0.000000</td>\n",
       "      <td>40.000000</td>\n",
       "    </tr>\n",
       "    <tr>\n",
       "      <th>50%</th>\n",
       "      <td>37.000000</td>\n",
       "      <td>1.781445e+05</td>\n",
       "      <td>10.000000</td>\n",
       "      <td>0.000000</td>\n",
       "      <td>0.000000</td>\n",
       "      <td>40.000000</td>\n",
       "    </tr>\n",
       "    <tr>\n",
       "      <th>75%</th>\n",
       "      <td>48.000000</td>\n",
       "      <td>2.376420e+05</td>\n",
       "      <td>12.000000</td>\n",
       "      <td>0.000000</td>\n",
       "      <td>0.000000</td>\n",
       "      <td>45.000000</td>\n",
       "    </tr>\n",
       "    <tr>\n",
       "      <th>max</th>\n",
       "      <td>90.000000</td>\n",
       "      <td>1.490400e+06</td>\n",
       "      <td>16.000000</td>\n",
       "      <td>99999.000000</td>\n",
       "      <td>4356.000000</td>\n",
       "      <td>99.000000</td>\n",
       "    </tr>\n",
       "  </tbody>\n",
       "</table>\n",
       "</div>"
      ],
      "text/plain": [
       "                age        fnlwgt  educational-num  capital-gain  \\\n",
       "count  48842.000000  4.884200e+04     48842.000000  48842.000000   \n",
       "mean      38.643585  1.896641e+05        10.078089   1079.067626   \n",
       "std       13.710510  1.056040e+05         2.570973   7452.019058   \n",
       "min       17.000000  1.228500e+04         1.000000      0.000000   \n",
       "25%       28.000000  1.175505e+05         9.000000      0.000000   \n",
       "50%       37.000000  1.781445e+05        10.000000      0.000000   \n",
       "75%       48.000000  2.376420e+05        12.000000      0.000000   \n",
       "max       90.000000  1.490400e+06        16.000000  99999.000000   \n",
       "\n",
       "       capital-loss  hours-per-week  \n",
       "count  48842.000000    48842.000000  \n",
       "mean      87.502314       40.422382  \n",
       "std      403.004552       12.391444  \n",
       "min        0.000000        1.000000  \n",
       "25%        0.000000       40.000000  \n",
       "50%        0.000000       40.000000  \n",
       "75%        0.000000       45.000000  \n",
       "max     4356.000000       99.000000  "
      ]
     },
     "execution_count": 7,
     "metadata": {},
     "output_type": "execute_result"
    }
   ],
   "source": [
    "data.describe()"
   ]
  },
  {
   "cell_type": "markdown",
   "id": "7b682baf-4b6d-4b63-823f-e9a6d26c8670",
   "metadata": {},
   "source": [
    "Присутствуют данные как числового типа, так и типа object.  \n",
    "Нет пропусков со значением null, но есть пропуски со значением '?'."
   ]
  },
  {
   "cell_type": "markdown",
   "id": "69927bf4-dd7f-4f2d-9557-45454f88dbec",
   "metadata": {},
   "source": [
    "# Обработка пропусков"
   ]
  },
  {
   "cell_type": "markdown",
   "id": "9b302633-b6c9-44c5-93c0-6de50c618fa4",
   "metadata": {},
   "source": [
    "Есть неявные пропуски - отдельные параметры со значением '?'.  \n",
    "Удаление таких пропусков можно сделать после преобразования категориальных признаков удалением столбцов с заголовком '*_?'  \n",
    "Датасет относитьно небольшой и удаление пропусков может исказить \"общую картину\".  "
   ]
  },
  {
   "cell_type": "markdown",
   "id": "eb9f0b08-7ac4-4bfd-a295-fd2454ac99be",
   "metadata": {},
   "source": [
    "# Гистограмма распределения по возрасту"
   ]
  },
  {
   "cell_type": "code",
   "execution_count": 75,
   "id": "2bc765b0-5155-4636-9ce2-8f7b3f943776",
   "metadata": {},
   "outputs": [
    {
     "data": {
      "text/plain": [
       "<AxesSubplot: >"
      ]
     },
     "execution_count": 75,
     "metadata": {},
     "output_type": "execute_result"
    },
    {
     "data": {
      "image/png": "[encoded data removed]",
      "text/plain": [
       "<Figure size 640x480 with 1 Axes>"
      ]
     },
     "metadata": {},
     "output_type": "display_data"
    }
   ],
   "source": [
    "data1[\"age\"].hist(bins=100)"
   ]
  },
  {
   "cell_type": "markdown",
   "id": "49dd5a1f-855c-45cf-8164-ca1189a5f01c",
   "metadata": {},
   "source": [
    "Максиальное кол-во данных смещено к участникам в возрасте 37 лет (что также можно видеть в выводе describe выше).  "
   ]
  },
  {
   "cell_type": "markdown",
   "id": "33b48624-0a00-4815-a661-0613e735fa44",
   "metadata": {},
   "source": [
    "# Гистограмма распределения по кол-ву рабочих частов в неделю"
   ]
  },
  {
   "cell_type": "code",
   "execution_count": 74,
   "id": "36150ce5-c6c6-48b3-8ca6-23183cf5d526",
   "metadata": {},
   "outputs": [
    {
     "data": {
      "text/plain": [
       "<AxesSubplot: >"
      ]
     },
     "execution_count": 74,
     "metadata": {},
     "output_type": "execute_result"
    },
    {
     "data": {
      "image/png": "[encoded data removed]",
      "text/plain": [
       "<Figure size 640x480 with 1 Axes>"
      ]
     },
     "metadata": {},
     "output_type": "display_data"
    }
   ],
   "source": [
    "data1[\"hours-per-week\"].hist(bins=10)"
   ]
  },
  {
   "cell_type": "markdown",
   "id": "ce12a1f5-fa1a-4076-8b49-ee83847877d1",
   "metadata": {},
   "source": [
    "Максиальное кол-во данных относится к участникам с 40-часовой рабочей неделей."
   ]
  },
  {
   "cell_type": "markdown",
   "id": "2e098a7b-c6fb-46a3-9675-84c9eed09d8a",
   "metadata": {},
   "source": [
    "# Преобразование категориальных признаков"
   ]
  },
  {
   "cell_type": "code",
   "execution_count": 39,
   "id": "7f8ae020-f613-404f-863f-66ff1db399ee",
   "metadata": {},
   "outputs": [
    {
     "data": {
      "text/plain": [
       "Index(['age', 'fnlwgt', 'educational-num', 'capital-gain', 'capital-loss',\n",
       "       'hours-per-week', 'workclass_?', 'workclass_Federal-gov',\n",
       "       'workclass_Local-gov', 'workclass_Never-worked',\n",
       "       ...\n",
       "       'native-country_Scotland', 'native-country_South',\n",
       "       'native-country_Taiwan', 'native-country_Thailand',\n",
       "       'native-country_Trinadad&Tobago', 'native-country_United-States',\n",
       "       'native-country_Vietnam', 'native-country_Yugoslavia', 'income_<=50K',\n",
       "       'income_>50K'],\n",
       "      dtype='object', length=110)"
      ]
     },
     "execution_count": 39,
     "metadata": {},
     "output_type": "execute_result"
    }
   ],
   "source": [
    "data1 = pd.get_dummies(data)\n",
    "data1.columns"
   ]
  },
  {
   "cell_type": "markdown",
   "id": "422a0263-f583-40bf-b47d-c35c0f793789",
   "metadata": {},
   "source": [
    "# Разделение выборки на обучающее и тестовое подмножество"
   ]
  },
  {
   "cell_type": "code",
   "execution_count": 38,
   "id": "f4e49fef-6d99-40c7-a2ca-ae8eef25c944",
   "metadata": {},
   "outputs": [
    {
     "data": {
      "text/plain": [
       "((39073, 110), (9769, 110))"
      ]
     },
     "execution_count": 38,
     "metadata": {},
     "output_type": "execute_result"
    }
   ],
   "source": [
    "data_train, data_test = train_test_split(data1, test_size=0.2, random_state=12345)\n",
    "data_train.shape, data_test.shape"
   ]
  },
  {
   "cell_type": "markdown",
   "id": "c658fb1d-a282-4916-884d-237ba5c4aec3",
   "metadata": {},
   "source": [
    "# Отделение целевой переменной в обучающем подмножестве"
   ]
  },
  {
   "cell_type": "code",
   "execution_count": 45,
   "id": "971f0c18-8021-4f2c-a4de-1e1d43c60d51",
   "metadata": {},
   "outputs": [
    {
     "data": {
      "text/plain": [
       "((39073,), (39073, 108))"
      ]
     },
     "execution_count": 45,
     "metadata": {},
     "output_type": "execute_result"
    }
   ],
   "source": [
    "data_train_target = data_train['income_>50K']\n",
    "data_train_workset = data_train.drop(['income_<=50K','income_>50K'], axis=1)\n",
    "data_train_target.shape, data_train_workset.shape"
   ]
  },
  {
   "cell_type": "markdown",
   "id": "48897fc8-2823-4f16-b602-fd026ae8e437",
   "metadata": {},
   "source": [
    "# Отделение целевой переменной в тестовом подмножестве"
   ]
  },
  {
   "cell_type": "code",
   "execution_count": 46,
   "id": "3471e666-f44f-4cfa-91cd-50435b703b6d",
   "metadata": {},
   "outputs": [
    {
     "data": {
      "text/plain": [
       "((9769,), (9769, 108))"
      ]
     },
     "execution_count": 46,
     "metadata": {},
     "output_type": "execute_result"
    }
   ],
   "source": [
    "data_test_target = data_test['income_>50K']\n",
    "data_test_workset = data_test.drop(['income_<=50K','income_>50K'], axis=1)\n",
    "data_test_target.shape, data_test_workset.shape"
   ]
  },
  {
   "cell_type": "markdown",
   "id": "2268fb9b-79d0-4884-b25e-6eeb480e71a3",
   "metadata": {},
   "source": [
    "# Обучение модели логистической регрессии на обучающем множестве"
   ]
  },
  {
   "cell_type": "code",
   "execution_count": 52,
   "id": "9ab6455d-6ece-4cc7-8e67-cdbda29f91dd",
   "metadata": {},
   "outputs": [
    {
     "data": {
      "text/plain": [
       "0.8234074680725821"
      ]
     },
     "execution_count": 52,
     "metadata": {},
     "output_type": "execute_result"
    }
   ],
   "source": [
    "model_lr = LogisticRegression(random_state=12345, max_iter=1000)\n",
    "model_lr.fit(data_train_workset, data_train_target)\n",
    "result_lr = model_lr.score(data_train_workset, data_train_target)\n",
    "result_lr"
   ]
  },
  {
   "cell_type": "markdown",
   "id": "a842b57e-1bff-4dcf-abde-08b340b52d6d",
   "metadata": {},
   "source": [
    "# Предсказание уровеня дохода для тестового множества и сравнение с истинным значением"
   ]
  },
  {
   "cell_type": "code",
   "execution_count": 54,
   "id": "e650b26d-7dff-4cb9-8d7d-3cffdb2367de",
   "metadata": {},
   "outputs": [
    {
     "data": {
      "text/plain": [
       "0.8250588596581021"
      ]
     },
     "execution_count": 54,
     "metadata": {},
     "output_type": "execute_result"
    }
   ],
   "source": [
    "predict_lr = model_lr.predict(data_test_workset)\n",
    "result_lr_test = accuracy_score(data_test_target, predict_lr)\n",
    "result_lr_test"
   ]
  },
  {
   "cell_type": "markdown",
   "id": "2287b037-1ab8-429d-9b84-b30d0e9623d0",
   "metadata": {},
   "source": [
    "# Обучение модели опорных векторов на обучающем множестве"
   ]
  },
  {
   "cell_type": "code",
   "execution_count": 59,
   "id": "2ad3a894-46ad-493a-b175-b7ef766bf961",
   "metadata": {},
   "outputs": [
    {
     "name": "stderr",
     "output_type": "stream",
     "text": [
      "/opt/conda/lib/python3.10/site-packages/sklearn/svm/_base.py:1225: ConvergenceWarning: Liblinear failed to converge, increase the number of iterations.\n",
      "  warnings.warn(\n"
     ]
    },
    {
     "data": {
      "text/plain": [
       "0.8539144677910577"
      ]
     },
     "execution_count": 59,
     "metadata": {},
     "output_type": "execute_result"
    }
   ],
   "source": [
    "model_svm = make_pipeline(StandardScaler(), LinearSVC(random_state=12345, max_iter=5000))\n",
    "model_svm.fit(data_train_workset, data_train_target)\n",
    "result_svm = model_svm.score(data_train_workset, data_train_target)\n",
    "result_svm"
   ]
  },
  {
   "cell_type": "markdown",
   "id": "44c514c2-e3bd-4b9d-a5f6-9203dd79a159",
   "metadata": {},
   "source": [
    "# Предсказание уровеня дохода для тестового множества и сравнение с истинным значением"
   ]
  },
  {
   "cell_type": "code",
   "execution_count": 60,
   "id": "3b44d1d3-d6f5-475c-801a-2075fabc14d5",
   "metadata": {},
   "outputs": [
    {
     "data": {
      "text/plain": [
       "0.8523902139420616"
      ]
     },
     "execution_count": 60,
     "metadata": {},
     "output_type": "execute_result"
    }
   ],
   "source": [
    "predict_svm = model_svm.predict(data_test_workset)\n",
    "result_svm_test = accuracy_score(data_test_target, predict_svm)\n",
    "result_svm_test"
   ]
  },
  {
   "cell_type": "markdown",
   "id": "ca7f9546-bb31-431f-8b0c-f1f51e7d6bdf",
   "metadata": {},
   "source": [
    "# Выводы"
   ]
  },
  {
   "cell_type": "markdown",
   "id": "087d5389-b6d4-4222-bc62-23dced942b4d",
   "metadata": {},
   "source": [
    "1. В данных не были обнаружены явные пропуски (NaN), но встречаются значения '?', которые решено было оставить в виду размера датасета и опасения потери данных потенциально имеющих влияние на предсказание значения целевой переменной.\n",
    "2. Категориальные признаки были преобразованы по принципу OHE кодирования, т.к. применяемые модели не работают с категориальными признаками.\n",
    "3. SVM модель предлагает чуть лучший результат предсказания."
   ]
  }
 ],
 "metadata": {
  "kernelspec": {
   "display_name": "Python 3 (ipykernel)",
   "language": "python",
   "name": "python3"
  },
  "language_info": {
   "codemirror_mode": {
    "name": "ipython",
    "version": 3
   },
   "file_extension": ".py",
   "mimetype": "text/x-python",
   "name": "python",
   "nbconvert_exporter": "python",
   "pygments_lexer": "ipython3",
   "version": "3.10.6"
  }
 },
 "nbformat": 4,
 "nbformat_minor": 5
}
